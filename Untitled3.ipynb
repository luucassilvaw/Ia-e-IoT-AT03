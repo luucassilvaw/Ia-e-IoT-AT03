{
  "nbformat": 4,
  "nbformat_minor": 0,
  "metadata": {
    "colab": {
      "provenance": []
    },
    "kernelspec": {
      "name": "python3",
      "display_name": "Python 3"
    },
    "language_info": {
      "name": "python"
    }
  },
  "cells": [
    {
      "cell_type": "code",
      "source": [
        "# Dicionário inicial com as notas\n",
        "notas = {'Teo': 8.5, 'Cristiano': 8.9, 'Matson': 7.7}\n",
        "\n",
        "# 1 - Exiba a nota do aluno Matson\n",
        "print(\"Nota do Matson:\", notas['Matson'])\n",
        "\n",
        "# 2 - Adicione um novo aluno chamado \"Bruna\" com a nota 8.7\n",
        "notas['Bruna'] = 8.7\n",
        "\n",
        "# 3 - Atualize a nota do aluno \"Teo\" para 9.2\n",
        "notas['Teo'] = 9.2\n",
        "\n",
        "# 4 - Verifique se o aluno \"Carlos\" está no dicionário\n",
        "print(\"Carlos está no dicionário?\", 'Carlos' in notas)\n",
        "\n",
        "# 5 - Apague o aluno \"Matson\" do dicionário\n",
        "del notas['Matson']\n",
        "\n",
        "# 6 - Adicione dois novos alunos com notas à sua escolha\n",
        "notas['Lívia'] = 9.0\n",
        "notas['André'] = 7.8\n",
        "\n",
        "# 7 - Mostre todas as chaves (nomes dos alunos)\n",
        "print(\"Alunos:\", list(notas.keys()))\n",
        "\n",
        "# 8 - Mostre todos os valores (notas dos alunos)\n",
        "print(\"Notas:\", list(notas.values()))\n",
        "\n",
        "# 9 - Use o método .get() para tentar buscar a nota de \"Islla\"\n",
        "print(\"Nota da Islla:\", notas.get('Islla', 'Aluno não encontrado'))\n",
        "\n",
        "# 10 - Use o método .get() para tentar buscar a nota de algum aluno (por exemplo, Cristiano)\n",
        "print(\"Nota do Cristiano:\", notas.get('Cristiano'))\n"
      ],
      "metadata": {
        "id": "2DmPWgejELFx",
        "outputId": "19d09edc-68f4-48c1-e962-0a488f2ec874",
        "colab": {
          "base_uri": "https://localhost:8080/"
        }
      },
      "execution_count": null,
      "outputs": [
        {
          "output_type": "stream",
          "name": "stdout",
          "text": [
            "Nota do Matson: 7.7\n",
            "Carlos está no dicionário? False\n",
            "Alunos: ['Teo', 'Cristiano', 'Bruna', 'Lívia', 'André']\n",
            "Notas: [9.2, 8.9, 8.7, 9.0, 7.8]\n",
            "Nota da Islla: Aluno não encontrado\n",
            "Nota do Cristiano: 8.9\n"
          ]
        }
      ]
    }
  ]
}